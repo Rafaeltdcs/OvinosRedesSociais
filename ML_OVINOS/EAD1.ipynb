{
 "cells": [
  {
   "cell_type": "markdown",
   "metadata": {},
   "source": [
    "## EAD 1 - VERIFICANDO AS PRIMEIRAS INFORMAÇÕES\n",
    "\n",
    "1. Quais são os videos mais assitidos (TOP 10)?\n",
    "2. Views por dia = views / (data - upload_date)\n",
    "2. Qual é a quantidade total de videos para cada busca (query)?\n",
    "3. Qual é a curva de views para cada busca?\n",
    "4. Qual user tem mais views?\n",
    "5. Qual é a media de views por video por user?\n",
    "6. Qual a palavra/corte mais comum no título dos videos?\n",
    "7. Quais informações temos na descrição do video?"
   ]
  },
  {
   "cell_type": "code",
   "execution_count": 51,
   "metadata": {},
   "outputs": [],
   "source": [
    "import db\n",
    "import pandas as pd\n",
    "import seaborn as sns"
   ]
  },
  {
   "cell_type": "code",
   "execution_count": 2,
   "metadata": {},
   "outputs": [],
   "source": [
    "# Coleta dados do banco\n",
    "db.db_conection_eng()\n",
    "dim = db.load_dimensao_youtube()\n",
    "des = db.load_description_youtube()\n",
    "view = db.load_views_youtube()"
   ]
  },
  {
   "cell_type": "code",
   "execution_count": 8,
   "metadata": {},
   "outputs": [],
   "source": [
    "# Merge entre as tabelas\n",
    "df = dim.merge(des, how='left', on='id')\n",
    "df = df.merge(view, how='left', on='id')"
   ]
  },
  {
   "cell_type": "code",
   "execution_count": 11,
   "metadata": {},
   "outputs": [
    {
     "data": {
      "text/plain": [
       "Index(['id', 'uploader', 'uploader_id', 'uploader_url', 'channel_id',\n",
       "       'channel_url', 'upload_date', 'license', 'creator', 'title',\n",
       "       'alt_title', 'thumbnails', 'description_x', 'categories', 'tags',\n",
       "       'subtitles', 'automatic_captions', 'duration', 'age_limit',\n",
       "       'annotations', 'chapters', 'webpage_url', 'view_count_x',\n",
       "       'like_count_x', 'dislike_count_x', 'average_rating_x', 'formats',\n",
       "       'is_live', 'start_time', 'end_time', 'series', 'season_number',\n",
       "       'episode_number', 'track', 'artist', 'album', 'release_date',\n",
       "       'release_year', 'subscriber_count', 'extractor', 'webpage_url_basename',\n",
       "       'extractor_key', 'n_entries', 'playlist', 'playlist_id',\n",
       "       'playlist_title', 'playlist_uploader', 'playlist_uploader_id',\n",
       "       'playlist_index', 'thumbnail', 'display_id', 'requested_subtitles',\n",
       "       'requested_formats', 'format', 'format_id', 'ext', 'width', 'height',\n",
       "       'resolution', 'fps', 'vcodec', 'vbr', 'stretched_ratio', 'acodec',\n",
       "       'abr', 'description_y', 'view_count_y', 'like_count_y',\n",
       "       'dislike_count_y', 'average_rating_y', 'data'],\n",
       "      dtype='object')"
      ]
     },
     "execution_count": 11,
     "metadata": {},
     "output_type": "execute_result"
    }
   ],
   "source": [
    "df.columns"
   ]
  },
  {
   "cell_type": "code",
   "execution_count": 28,
   "metadata": {},
   "outputs": [],
   "source": [
    "# Cria coluna com quantidade de dias do video\n",
    "df = df.convert_dtypes(infer_objects=False)\n",
    "df['upload_date'] = pd.to_datetime(df['upload_date'])\n",
    "df['data'] = pd.to_datetime(df['data'])\n",
    "df['dias'] = df['data']-df['upload_date']\n",
    "df['dias'] = df['dias'].dt.days\n",
    "df['views_dia'] = df['view_count_y'] / df['dias']"
   ]
  },
  {
   "cell_type": "code",
   "execution_count": 44,
   "metadata": {},
   "outputs": [
    {
     "data": {
      "text/html": [
       "<div>\n",
       "<style scoped>\n",
       "    .dataframe tbody tr th:only-of-type {\n",
       "        vertical-align: middle;\n",
       "    }\n",
       "\n",
       "    .dataframe tbody tr th {\n",
       "        vertical-align: top;\n",
       "    }\n",
       "\n",
       "    .dataframe thead th {\n",
       "        text-align: right;\n",
       "    }\n",
       "</style>\n",
       "<table border=\"1\" class=\"dataframe\">\n",
       "  <thead>\n",
       "    <tr style=\"text-align: right;\">\n",
       "      <th></th>\n",
       "      <th>uploader</th>\n",
       "      <th>title</th>\n",
       "      <th>view_count_y</th>\n",
       "    </tr>\n",
       "  </thead>\n",
       "  <tbody>\n",
       "    <tr>\n",
       "      <th>148</th>\n",
       "      <td>MasterChef Brasil</td>\n",
       "      <td>MASTERCHEF BRASIL (22/05/2018) | PARTE 4 | EP ...</td>\n",
       "      <td>2537195</td>\n",
       "    </tr>\n",
       "    <tr>\n",
       "      <th>139</th>\n",
       "      <td>MasterChef Brasil</td>\n",
       "      <td>MASTERCHEF PROFISSIONAIS (15/11/2016) | PARTE ...</td>\n",
       "      <td>2295566</td>\n",
       "    </tr>\n",
       "    <tr>\n",
       "      <th>46</th>\n",
       "      <td>Marcelo Bolinha Carnes</td>\n",
       "      <td>SADDLE OF LAMB | GARUPA DE CORDEIRO</td>\n",
       "      <td>1206023</td>\n",
       "    </tr>\n",
       "    <tr>\n",
       "      <th>4</th>\n",
       "      <td>ecocss1</td>\n",
       "      <td>Aprenda a temperar a carne de carneiro - Globo...</td>\n",
       "      <td>1067472</td>\n",
       "    </tr>\n",
       "    <tr>\n",
       "      <th>177</th>\n",
       "      <td>Cozinhando com Fernando Couto</td>\n",
       "      <td>Batatas Assadas para Acompanhamento de carnes ...</td>\n",
       "      <td>953109</td>\n",
       "    </tr>\n",
       "    <tr>\n",
       "      <th>12</th>\n",
       "      <td>Mohamad Hindi</td>\n",
       "      <td>CORDEIRO ASSADO DEBAIXO DA TERRA ft. Guto Quir...</td>\n",
       "      <td>919046</td>\n",
       "    </tr>\n",
       "    <tr>\n",
       "      <th>29</th>\n",
       "      <td>Marcelo Bolinha Carnes</td>\n",
       "      <td>CORDEIRO NA ESTACA</td>\n",
       "      <td>854765</td>\n",
       "    </tr>\n",
       "    <tr>\n",
       "      <th>24</th>\n",
       "      <td>Marcelo Bolinha Carnes</td>\n",
       "      <td>BOLINHA E ZE ALMIRO - CORDEIRO COM CARRETEIRO</td>\n",
       "      <td>665328</td>\n",
       "    </tr>\n",
       "    <tr>\n",
       "      <th>21</th>\n",
       "      <td>O Agro Nosso</td>\n",
       "      <td>Conheça a raça Dorper para produção de carne d...</td>\n",
       "      <td>592198</td>\n",
       "    </tr>\n",
       "    <tr>\n",
       "      <th>110</th>\n",
       "      <td>Erick Jacquin</td>\n",
       "      <td>COMIDA DE VERDADE: CANELA DE CORDEIRO BRASEADA...</td>\n",
       "      <td>587861</td>\n",
       "    </tr>\n",
       "  </tbody>\n",
       "</table>\n",
       "</div>"
      ],
      "text/plain": [
       "                          uploader  \\\n",
       "148              MasterChef Brasil   \n",
       "139              MasterChef Brasil   \n",
       "46          Marcelo Bolinha Carnes   \n",
       "4                          ecocss1   \n",
       "177  Cozinhando com Fernando Couto   \n",
       "12                   Mohamad Hindi   \n",
       "29          Marcelo Bolinha Carnes   \n",
       "24          Marcelo Bolinha Carnes   \n",
       "21                    O Agro Nosso   \n",
       "110                  Erick Jacquin   \n",
       "\n",
       "                                                 title  view_count_y  \n",
       "148  MASTERCHEF BRASIL (22/05/2018) | PARTE 4 | EP ...       2537195  \n",
       "139  MASTERCHEF PROFISSIONAIS (15/11/2016) | PARTE ...       2295566  \n",
       "46                 SADDLE OF LAMB | GARUPA DE CORDEIRO       1206023  \n",
       "4    Aprenda a temperar a carne de carneiro - Globo...       1067472  \n",
       "177  Batatas Assadas para Acompanhamento de carnes ...        953109  \n",
       "12   CORDEIRO ASSADO DEBAIXO DA TERRA ft. Guto Quir...        919046  \n",
       "29                                  CORDEIRO NA ESTACA        854765  \n",
       "24       BOLINHA E ZE ALMIRO - CORDEIRO COM CARRETEIRO        665328  \n",
       "21   Conheça a raça Dorper para produção de carne d...        592198  \n",
       "110  COMIDA DE VERDADE: CANELA DE CORDEIRO BRASEADA...        587861  "
      ]
     },
     "execution_count": 44,
     "metadata": {},
     "output_type": "execute_result"
    }
   ],
   "source": [
    "# Item 1\n",
    "print('Quais são os videos mais assitidos (TOP 10)?')\n",
    "df[['uploader','title','view_count_y']].sort_values('view_count_y',ascending=False).iloc[0:10,]"
   ]
  },
  {
   "cell_type": "code",
   "execution_count": 48,
   "metadata": {},
   "outputs": [
    {
     "data": {
      "text/html": [
       "<div>\n",
       "<style scoped>\n",
       "    .dataframe tbody tr th:only-of-type {\n",
       "        vertical-align: middle;\n",
       "    }\n",
       "\n",
       "    .dataframe tbody tr th {\n",
       "        vertical-align: top;\n",
       "    }\n",
       "\n",
       "    .dataframe thead th {\n",
       "        text-align: right;\n",
       "    }\n",
       "</style>\n",
       "<table border=\"1\" class=\"dataframe\">\n",
       "  <thead>\n",
       "    <tr style=\"text-align: right;\">\n",
       "      <th></th>\n",
       "      <th>uploader</th>\n",
       "      <th>title</th>\n",
       "      <th>views_dia</th>\n",
       "    </tr>\n",
       "  </thead>\n",
       "  <tbody>\n",
       "    <tr>\n",
       "      <th>24</th>\n",
       "      <td>Marcelo Bolinha Carnes</td>\n",
       "      <td>BOLINHA E ZE ALMIRO - CORDEIRO COM CARRETEIRO</td>\n",
       "      <td>3326.64</td>\n",
       "    </tr>\n",
       "    <tr>\n",
       "      <th>148</th>\n",
       "      <td>MasterChef Brasil</td>\n",
       "      <td>MASTERCHEF BRASIL (22/05/2018) | PARTE 4 | EP ...</td>\n",
       "      <td>2416.37619</td>\n",
       "    </tr>\n",
       "    <tr>\n",
       "      <th>29</th>\n",
       "      <td>Marcelo Bolinha Carnes</td>\n",
       "      <td>CORDEIRO NA ESTACA</td>\n",
       "      <td>1920.820225</td>\n",
       "    </tr>\n",
       "    <tr>\n",
       "      <th>110</th>\n",
       "      <td>Erick Jacquin</td>\n",
       "      <td>COMIDA DE VERDADE: CANELA DE CORDEIRO BRASEADA...</td>\n",
       "      <td>1854.451104</td>\n",
       "    </tr>\n",
       "    <tr>\n",
       "      <th>46</th>\n",
       "      <td>Marcelo Bolinha Carnes</td>\n",
       "      <td>SADDLE OF LAMB | GARUPA DE CORDEIRO</td>\n",
       "      <td>1821.787009</td>\n",
       "    </tr>\n",
       "    <tr>\n",
       "      <th>12</th>\n",
       "      <td>Mohamad Hindi</td>\n",
       "      <td>CORDEIRO ASSADO DEBAIXO DA TERRA ft. Guto Quir...</td>\n",
       "      <td>1445.040881</td>\n",
       "    </tr>\n",
       "    <tr>\n",
       "      <th>139</th>\n",
       "      <td>MasterChef Brasil</td>\n",
       "      <td>MASTERCHEF PROFISSIONAIS (15/11/2016) | PARTE ...</td>\n",
       "      <td>1432.043668</td>\n",
       "    </tr>\n",
       "    <tr>\n",
       "      <th>6</th>\n",
       "      <td>Marcelo Bolinha Carnes</td>\n",
       "      <td>WINE AND GARLIC LEG OF LAMB | PERNIL DE CORDEI...</td>\n",
       "      <td>1185.541516</td>\n",
       "    </tr>\n",
       "    <tr>\n",
       "      <th>3</th>\n",
       "      <td>Erick Jacquin</td>\n",
       "      <td>CARRÉ DE CORDEIRO DO JEITO QUE AMO | ERICK JAC...</td>\n",
       "      <td>1108.447248</td>\n",
       "    </tr>\n",
       "    <tr>\n",
       "      <th>126</th>\n",
       "      <td>Marcelo Bolinha Carnes</td>\n",
       "      <td>PERNIL DE CORDEIRO NO FORNO DE BARRO | LEG OF ...</td>\n",
       "      <td>1054.056818</td>\n",
       "    </tr>\n",
       "  </tbody>\n",
       "</table>\n",
       "</div>"
      ],
      "text/plain": [
       "                   uploader  \\\n",
       "24   Marcelo Bolinha Carnes   \n",
       "148       MasterChef Brasil   \n",
       "29   Marcelo Bolinha Carnes   \n",
       "110           Erick Jacquin   \n",
       "46   Marcelo Bolinha Carnes   \n",
       "12            Mohamad Hindi   \n",
       "139       MasterChef Brasil   \n",
       "6    Marcelo Bolinha Carnes   \n",
       "3             Erick Jacquin   \n",
       "126  Marcelo Bolinha Carnes   \n",
       "\n",
       "                                                 title    views_dia  \n",
       "24       BOLINHA E ZE ALMIRO - CORDEIRO COM CARRETEIRO      3326.64  \n",
       "148  MASTERCHEF BRASIL (22/05/2018) | PARTE 4 | EP ...   2416.37619  \n",
       "29                                  CORDEIRO NA ESTACA  1920.820225  \n",
       "110  COMIDA DE VERDADE: CANELA DE CORDEIRO BRASEADA...  1854.451104  \n",
       "46                 SADDLE OF LAMB | GARUPA DE CORDEIRO  1821.787009  \n",
       "12   CORDEIRO ASSADO DEBAIXO DA TERRA ft. Guto Quir...  1445.040881  \n",
       "139  MASTERCHEF PROFISSIONAIS (15/11/2016) | PARTE ...  1432.043668  \n",
       "6    WINE AND GARLIC LEG OF LAMB | PERNIL DE CORDEI...  1185.541516  \n",
       "3    CARRÉ DE CORDEIRO DO JEITO QUE AMO | ERICK JAC...  1108.447248  \n",
       "126  PERNIL DE CORDEIRO NO FORNO DE BARRO | LEG OF ...  1054.056818  "
      ]
     },
     "execution_count": 48,
     "metadata": {},
     "output_type": "execute_result"
    }
   ],
   "source": [
    "# Item 2\n",
    "print('Quais são os videos com maior média de views por dia (TOP 10)?')\n",
    "df[['uploader','title','views_dia']].sort_values('views_dia',ascending=False).iloc[0:10,]"
   ]
  },
  {
   "cell_type": "code",
   "execution_count": 50,
   "metadata": {},
   "outputs": [
    {
     "name": "stdout",
     "output_type": "stream",
     "text": [
      "Qual é a quantidade total de videos para cada busca (query)?\n"
     ]
    },
    {
     "data": {
      "text/plain": [
       "190"
      ]
     },
     "execution_count": 50,
     "metadata": {},
     "output_type": "execute_result"
    }
   ],
   "source": [
    "# Item 3\n",
    "print('Qual é a quantidade total de videos para cada busca (query)?')\n",
    "len(df['id'])"
   ]
  },
  {
   "cell_type": "code",
   "execution_count": 71,
   "metadata": {},
   "outputs": [
    {
     "name": "stdout",
     "output_type": "stream",
     "text": [
      "Qual é a curva de views para cada busca?\n",
      " Menor que 250 mil: 173 \n",
      " Menor que 500 mil: 6 \n",
      " Maior que 1.000 mil: 7\n"
     ]
    },
    {
     "data": {
      "text/plain": [
       "<seaborn.axisgrid.FacetGrid at 0x188e32bf548>"
      ]
     },
     "execution_count": 71,
     "metadata": {},
     "output_type": "execute_result"
    },
    {
     "data": {
      "image/png": "[encoded data removed]",
      "text/plain": [
       "<Figure size 360x360 with 1 Axes>"
      ]
     },
     "metadata": {
      "needs_background": "light"
     },
     "output_type": "display_data"
    }
   ],
   "source": [
    "# Item 4\n",
    "print('Qual é a curva de views para cada busca?')\n",
    "a=df['view_count_y'][df['view_count_y'] < 250000].count()\n",
    "b=df['view_count_y'][(df['view_count_y'] > 250000) & (df['view_count_y'] < 500000)].count()\n",
    "c=df['view_count_y'][(df['view_count_y'] > 500000) & (df['view_count_y'] < 1000000)].count()\n",
    "print(' Menor que 250 mil: {0} \\n Menor que 500 mil: {1} \\n Maior que 1.000 mil: {2}'.format(a,b,c))\n",
    "sns.displot(df,x='view_count_y')"
   ]
  },
  {
   "cell_type": "code",
   "execution_count": 84,
   "metadata": {},
   "outputs": [
    {
     "name": "stdout",
     "output_type": "stream",
     "text": [
      "Qual user tem mais views (TOP15)?\n"
     ]
    },
    {
     "data": {
      "text/plain": [
       "uploader\n",
       "MasterChef Brasil                                  4910183\n",
       "Marcelo Bolinha Carnes                             3733443\n",
       "Mohamad Hindi                                      1369630\n",
       "Erick Jacquin                                      1071144\n",
       "ecocss1                                            1067472\n",
       "Cozinhando com Fernando Couto                       953109\n",
       "Churrasqueadas                                      795886\n",
       "O Agro Nosso                                        592302\n",
       "TVU Lavras                                          577468\n",
       "Netão Bom Beef                                      473989\n",
       "Pesca - Atividades Mateiras - Tradições da Roça     422572\n",
       "Apaixonado por Churrasco                            347511\n",
       "Guto Quirós - Ovinocultura & Agronegócio            328957\n",
       "Negócios da Terra                                   277722\n",
       "ChefTaico                                           265059\n",
       "Name: view_count_y, dtype: Int64"
      ]
     },
     "execution_count": 84,
     "metadata": {},
     "output_type": "execute_result"
    }
   ],
   "source": [
    "# Item 5\n",
    "print('Qual user tem mais views (TOP15)?')\n",
    "df.groupby(by=['uploader'])['view_count_y'].sum().sort_values(ascending=False)[0:15]"
   ]
  },
  {
   "cell_type": "code",
   "execution_count": 89,
   "metadata": {},
   "outputs": [
    {
     "name": "stdout",
     "output_type": "stream",
     "text": [
      "Videos por user?\n"
     ]
    },
    {
     "data": {
      "text/plain": [
       "uploader\n",
       "Guto Quirós - Ovinocultura & Agronegócio    23\n",
       "Marcelo Bolinha Carnes                       9\n",
       "Clube da Carne TV                            5\n",
       "Churrasqueadas                               5\n",
       "ChefTaico                                    4\n",
       "Netão Bom Beef                               4\n",
       "Apaixonado por Churrasco                     3\n",
       "BBQ Em Casa - Receitas De Churrasco          3\n",
       "Cursos CPT                                   3\n",
       "Negócios da Terra                            3\n",
       "MasterChef Brasil                            3\n",
       "Nhac GNT                                     2\n",
       "Erick Jacquin                                2\n",
       "Carlos Aires Culinária                       2\n",
       "Cansei de Ser Chef                           2\n",
       "Name: id, dtype: int64"
      ]
     },
     "execution_count": 89,
     "metadata": {},
     "output_type": "execute_result"
    }
   ],
   "source": [
    "# Item 6\n",
    "print('Videos por user?')\n",
    "df.groupby(by=['uploader'])['id'].count().sort_values(ascending=False)[0:15]"
   ]
  },
  {
   "cell_type": "code",
   "execution_count": 91,
   "metadata": {},
   "outputs": [
    {
     "name": "stdout",
     "output_type": "stream",
     "text": [
      "Qual é a media de views por video por user?(TOP15)\n"
     ]
    },
    {
     "data": {
      "text/plain": [
       "uploader\n",
       "MasterChef Brasil                                  1636727.666667\n",
       "ecocss1                                                 1067472.0\n",
       "Cozinhando com Fernando Couto                            953109.0\n",
       "Mohamad Hindi                                            684815.0\n",
       "TVU Lavras                                               577468.0\n",
       "Erick Jacquin                                            535572.0\n",
       "Pesca - Atividades Mateiras - Tradições da Roça          422572.0\n",
       "Marcelo Bolinha Carnes                                   414827.0\n",
       "O Agro Nosso                                             296151.0\n",
       "kevin filmes                                             228171.0\n",
       "Dia de Campo na TV                                       208965.0\n",
       "Ana Maria Brogui                                         177904.0\n",
       "Churrasqueadas                                           159177.2\n",
       "A dona da cozinha                                        156649.0\n",
       "PescaDinamica                                            139603.0\n",
       "Name: view_count_y, dtype: Float64"
      ]
     },
     "execution_count": 91,
     "metadata": {},
     "output_type": "execute_result"
    }
   ],
   "source": [
    "print('Qual é a media de views por video por user?(TOP15)')\n",
    "df.groupby(by=['uploader'])['view_count_y'].mean().sort_values(ascending=False)[0:15]"
   ]
  },
  {
   "cell_type": "code",
   "execution_count": null,
   "metadata": {},
   "outputs": [],
   "source": [
    "# Item 7\n",
    "print('Qual a palavra/corte mais comum no título dos videos?')\n"
   ]
  }
 ],
 "metadata": {
  "kernelspec": {
   "display_name": "Python 3",
   "language": "python",
   "name": "python3"
  },
  "language_info": {
   "codemirror_mode": {
    "name": "ipython",
    "version": 3
   },
   "file_extension": ".py",
   "mimetype": "text/x-python",
   "name": "python",
   "nbconvert_exporter": "python",
   "pygments_lexer": "ipython3",
   "version": "3.7.4"
  }
 },
 "nbformat": 4,
 "nbformat_minor": 4
}
