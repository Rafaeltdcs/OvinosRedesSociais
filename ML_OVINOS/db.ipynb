{
 "cells": [
  {
   "cell_type": "code",
   "execution_count": 9,
   "metadata": {},
   "outputs": [],
   "source": [
    "import sqlite3\n",
    "import pandas as pd\n",
    "from sqlalchemy import create_engine\n",
    "from sqlalchemy.orm import sessionmaker"
   ]
  },
  {
   "cell_type": "code",
   "execution_count": null,
   "metadata": {},
   "outputs": [],
   "source": [
    "# TABLES\n",
    "# description_youtube  dimensao_youtube     views_youtube"
   ]
  },
  {
   "cell_type": "code",
   "execution_count": 13,
   "metadata": {},
   "outputs": [],
   "source": [
    "# Criando conexão com BD\n",
    "def db_conection_eng():\n",
    "    '''retorna a engine de conexao'''\n",
    "    engine = create_engine('sqlite:///ovinos.db', echo=False)\n",
    "    sqlite_connection = engine.connect()\n",
    "    return sqlite_connection\n",
    "\n",
    "def db_conection_session():\n",
    "    '''retorna a session da conexao'''\n",
    "    engine = create_engine('sqlite:///ovinos.db', echo=False)\n",
    "    sqlite_connection = engine.connect()\n",
    "    Session = sessionmaker(bind=engine)\n",
    "    session = Session()\n",
    "    return session\n",
    "\n",
    "# Carrega os dados\n",
    "def load_dimensao_youtube():\n",
    "    '''carrega os dados no banco dimensao_youtube'''\n",
    "    sqlite_conn = db_conection_eng()\n",
    "    df = pd.read_sql('dimensao_youtube', sqlite_conn)\n",
    "    return df\n",
    "\n",
    "def load_description_youtube():\n",
    "    '''carrega os dados no banco description_youtube'''\n",
    "    sqlite_conn = db_conection_eng()\n",
    "    df = pd.read_sql('description_youtube', sqlite_conn)\n",
    "    return df\n",
    "\n",
    "def load_views_youtube():\n",
    "    '''carrega os dados no banco views_youtube'''\n",
    "    sqlite_conn = db_conection_eng()\n",
    "    df = pd.read_sql('views_youtube', sqlite_conn)\n",
    "    return df\n",
    "\n",
    "# Escreve os dados\n",
    "def wr_dimensao_youtube(df):\n",
    "    '''escreve os dados no banco dimensao_youtube'''\n",
    "    df.set_index('id',drop=True, inplace=True)\n",
    "    df = df.convert_dtypes(infer_objects=False)\n",
    "    sqlite_conn = db_conection_eng()\n",
    "    df = df.to_sql('dimensao_youtube', sqlite_conn, if_exists='append')\n",
    "    session = db_conection_session()\n",
    "    session.commit()\n",
    "    return df\n",
    "\n",
    "def wr_description_youtube(df):\n",
    "    '''escreve os dados no banco description_youtube'''\n",
    "    df.set_index('id', drop=True, inplace=True)\n",
    "    df = df.convert_dtypes(infer_objects=False)\n",
    "    sqlite_conn = db_conection_eng()\n",
    "    df = df.to_sql('description_youtube', sqlite_conn, if_exists='append')\n",
    "    session = db_conection_session()\n",
    "    session.commit()\n",
    "    return df\n",
    "\n",
    "def wr_views_youtube(df):\n",
    "    '''escreve os dados no banco views_youtube'''\n",
    "    df.set_index('id', drop=True, inplace=True)\n",
    "    df = df.convert_dtypes(infer_objects=False)\n",
    "    sqlite_conn = db_conection_eng()\n",
    "    df = df.to_sql('views_youtube', sqlite_conn, if_exists='append')\n",
    "    session = db_conection_session()\n",
    "    session.commit()\n",
    "    return df\n",
    "\n"
   ]
  },
  {
   "cell_type": "code",
   "execution_count": 16,
   "metadata": {},
   "outputs": [],
   "source": [
    "df = load_views_youtube()"
   ]
  },
  {
   "cell_type": "code",
   "execution_count": 17,
   "metadata": {},
   "outputs": [
    {
     "data": {
      "text/html": [
       "<div>\n",
       "<style scoped>\n",
       "    .dataframe tbody tr th:only-of-type {\n",
       "        vertical-align: middle;\n",
       "    }\n",
       "\n",
       "    .dataframe tbody tr th {\n",
       "        vertical-align: top;\n",
       "    }\n",
       "\n",
       "    .dataframe thead th {\n",
       "        text-align: right;\n",
       "    }\n",
       "</style>\n",
       "<table border=\"1\" class=\"dataframe\">\n",
       "  <thead>\n",
       "    <tr style=\"text-align: right;\">\n",
       "      <th></th>\n",
       "      <th>id</th>\n",
       "      <th>view_count</th>\n",
       "      <th>like_count</th>\n",
       "      <th>dislike_count</th>\n",
       "      <th>average_rating</th>\n",
       "      <th>data</th>\n",
       "    </tr>\n",
       "  </thead>\n",
       "  <tbody>\n",
       "    <tr>\n",
       "      <th>0</th>\n",
       "      <td>c55zIpV_BlU</td>\n",
       "      <td>26645</td>\n",
       "      <td>2180.0</td>\n",
       "      <td>20.0</td>\n",
       "      <td>4.963636</td>\n",
       "      <td>2021-04-07 21:51:47.081087</td>\n",
       "    </tr>\n",
       "    <tr>\n",
       "      <th>1</th>\n",
       "      <td>zY7hdFQHxV4</td>\n",
       "      <td>76232</td>\n",
       "      <td>2226.0</td>\n",
       "      <td>32.0</td>\n",
       "      <td>4.943313</td>\n",
       "      <td>2021-04-07 21:51:47.081087</td>\n",
       "    </tr>\n",
       "    <tr>\n",
       "      <th>2</th>\n",
       "      <td>T3_WnOgVHTg</td>\n",
       "      <td>219843</td>\n",
       "      <td>12435.0</td>\n",
       "      <td>106.0</td>\n",
       "      <td>4.966191</td>\n",
       "      <td>2021-04-07 21:51:47.081087</td>\n",
       "    </tr>\n",
       "    <tr>\n",
       "      <th>3</th>\n",
       "      <td>Ql89NIMnn7g</td>\n",
       "      <td>483283</td>\n",
       "      <td>40829.0</td>\n",
       "      <td>239.0</td>\n",
       "      <td>4.976722</td>\n",
       "      <td>2021-04-07 21:51:47.081087</td>\n",
       "    </tr>\n",
       "    <tr>\n",
       "      <th>4</th>\n",
       "      <td>eC4-bvIwGS4</td>\n",
       "      <td>1067472</td>\n",
       "      <td>9256.0</td>\n",
       "      <td>560.0</td>\n",
       "      <td>4.771801</td>\n",
       "      <td>2021-04-07 21:51:47.081087</td>\n",
       "    </tr>\n",
       "  </tbody>\n",
       "</table>\n",
       "</div>"
      ],
      "text/plain": [
       "            id  view_count  like_count  dislike_count  average_rating  \\\n",
       "0  c55zIpV_BlU       26645      2180.0           20.0        4.963636   \n",
       "1  zY7hdFQHxV4       76232      2226.0           32.0        4.943313   \n",
       "2  T3_WnOgVHTg      219843     12435.0          106.0        4.966191   \n",
       "3  Ql89NIMnn7g      483283     40829.0          239.0        4.976722   \n",
       "4  eC4-bvIwGS4     1067472      9256.0          560.0        4.771801   \n",
       "\n",
       "                         data  \n",
       "0  2021-04-07 21:51:47.081087  \n",
       "1  2021-04-07 21:51:47.081087  \n",
       "2  2021-04-07 21:51:47.081087  \n",
       "3  2021-04-07 21:51:47.081087  \n",
       "4  2021-04-07 21:51:47.081087  "
      ]
     },
     "execution_count": 17,
     "metadata": {},
     "output_type": "execute_result"
    }
   ],
   "source": [
    "df.head()"
   ]
  },
  {
   "cell_type": "code",
   "execution_count": 8,
   "metadata": {},
   "outputs": [],
   "source": [
    "#df = load_dimensao_youtube()"
   ]
  },
  {
   "cell_type": "code",
   "execution_count": 118,
   "metadata": {},
   "outputs": [],
   "source": [
    "#conn = sqlite3.connect('ovinos.db')\n",
    "#cursor = conn.cursor()\n",
    "#sql = \"SELECT uploader FROM dimensao_youtube\"\n",
    "#cursor.execute(sql)\n",
    "#print(cursor.fetchall())"
   ]
  },
  {
   "cell_type": "code",
   "execution_count": 6,
   "metadata": {},
   "outputs": [],
   "source": [
    "'''\n",
    "#teste1\n",
    "df = pd.read_pickle('coleta_ovinos.pkl')\n",
    "df.set_index('id',drop=True, inplace=True)\n",
    "df = df.convert_dtypes(infer_objects=False)\n",
    "df.to_sql('dimensao_youtube', sqlite_connection, if_exists='append')\n",
    "'''"
   ]
  },
  {
   "cell_type": "code",
   "execution_count": 107,
   "metadata": {},
   "outputs": [],
   "source": [
    "#session.commit()"
   ]
  },
  {
   "cell_type": "code",
   "execution_count": 116,
   "metadata": {},
   "outputs": [],
   "source": [
    "#df1 = pd.read_sql('dimensao_youtube',con=sqlite_connection)"
   ]
  },
  {
   "cell_type": "code",
   "execution_count": null,
   "metadata": {},
   "outputs": [],
   "source": [
    "#df = pd.read_sql"
   ]
  },
  {
   "cell_type": "code",
   "execution_count": 24,
   "metadata": {},
   "outputs": [
    {
     "data": {
      "text/plain": [
       "<sqlite3.Cursor at 0x1e4238e8570>"
      ]
     },
     "execution_count": 24,
     "metadata": {},
     "output_type": "execute_result"
    }
   ],
   "source": [
    "'''\n",
    "# criando a tabela (schema)\n",
    "cursor.execute(\"\"\"\n",
    "CREATE TABLE dimensao_youtube (\n",
    "        id                    TEXT PRIMARY KEY,\n",
    "        uploader              TEXT, \n",
    "        uploader_id           TEXT, \n",
    "        uploader_url          TEXT, \n",
    "        channel_id            TEXT, \n",
    "        channel_url           TEXT, \n",
    "        upload_date           TEXT, \n",
    "        license               TEXT, \n",
    "        creator               TEXT, \n",
    "        title                 TEXT, \n",
    "        alt_title             TEXT, \n",
    "        thumbnails            TEXT, \n",
    "        description           TEXT, \n",
    "        categories            TEXT, \n",
    "        tags                  TEXT, \n",
    "        subtitles             TEXT, \n",
    "        automatic_captions    TEXT, \n",
    "        duration              REAL,\n",
    "        age_limit             INTEGER,  \n",
    "        annotations           TEXT, \n",
    "        chapters              TEXT, \n",
    "        webpage_url           TEXT, \n",
    "        view_count            INTEGER,  \n",
    "        like_count            REAL,\n",
    "        dislike_count         REAL,\n",
    "        average_rating        REAL,\n",
    "        formats               TEXT, \n",
    "        is_live               TEXT, \n",
    "        start_time            TEXT, \n",
    "        end_time              TEXT, \n",
    "        series                TEXT, \n",
    "        season_number         TEXT, \n",
    "        episode_number        TEXT, \n",
    "        track                 TEXT, \n",
    "        artist                TEXT, \n",
    "        album                 TEXT, \n",
    "        release_date          TEXT, \n",
    "        release_year          TEXT, \n",
    "        subscriber_count      TEXT, \n",
    "        extractor             TEXT, \n",
    "        webpage_url_basename  TEXT, \n",
    "        extractor_key         TEXT, \n",
    "        n_entries             INTEGER,  \n",
    "        playlist              TEXT, \n",
    "        playlist_id           TEXT, \n",
    "        playlist_title        TEXT, \n",
    "        playlist_uploader     TEXT, \n",
    "        playlist_uploader_id  TEXT, \n",
    "        playlist_index        INTEGER,  \n",
    "        thumbnail             TEXT, \n",
    "        display_id            TEXT, \n",
    "        requested_subtitles   TEXT, \n",
    "        requested_formats     TEXT, \n",
    "        format                TEXT, \n",
    "        format_id             TEXT, \n",
    "        ext                   TEXT, \n",
    "        width                 INTEGER,  \n",
    "        height                INTEGER,  \n",
    "        resolution            TEXT, \n",
    "        fps                   INTEGER,  \n",
    "        vcodec                TEXT, \n",
    "        vbr                   TEXT, \n",
    "        stretched_ratio       TEXT, \n",
    "        acodec                TEXT, \n",
    "        abr                   INTEGER\n",
    ");\n",
    "\"\"\")\n",
    "'''"
   ]
  },
  {
   "cell_type": "code",
   "execution_count": 7,
   "metadata": {},
   "outputs": [
    {
     "data": {
      "text/plain": [
       "<sqlite3.Cursor at 0x27de3b83e30>"
      ]
     },
     "execution_count": 7,
     "metadata": {},
     "output_type": "execute_result"
    }
   ],
   "source": [
    "'''\n",
    "#Tabela count views\n",
    "cursor.execute(\"\"\"\n",
    "CREATE TABLE views_youtube (\n",
    "        id                    TEXT PRIMARY KEY, \n",
    "        view_count            INTEGER,  \n",
    "        like_count            REAL,\n",
    "        dislike_count         REAL,\n",
    "        average_rating        REAL,\n",
    "        data                  TEXT\n",
    ");\n",
    "\"\"\")\n",
    "'''"
   ]
  },
  {
   "cell_type": "code",
   "execution_count": 4,
   "metadata": {},
   "outputs": [
    {
     "data": {
      "text/plain": [
       "<sqlite3.Cursor at 0x27de3b2f180>"
      ]
     },
     "execution_count": 4,
     "metadata": {},
     "output_type": "execute_result"
    }
   ],
   "source": [
    "'''\n",
    "cursor.execute(\"\"\"\n",
    "CREATE TABLE description_youtube (\n",
    "        id                    TEXT PRIMARY KEY, \n",
    "        description           TEXT\n",
    ");\n",
    "\"\"\")\n",
    "'''"
   ]
  },
  {
   "cell_type": "code",
   "execution_count": 6,
   "metadata": {},
   "outputs": [],
   "source": [
    "#conn = sqlite3.connect('ovinos.db')\n",
    "#cursor = conn.cursor()"
   ]
  },
  {
   "cell_type": "code",
   "execution_count": 121,
   "metadata": {},
   "outputs": [],
   "source": [
    "#conn.commit()"
   ]
  },
  {
   "cell_type": "code",
   "execution_count": 8,
   "metadata": {},
   "outputs": [],
   "source": [
    "#conn.close()"
   ]
  }
 ],
 "metadata": {
  "kernelspec": {
   "display_name": "Python 3",
   "language": "python",
   "name": "python3"
  },
  "language_info": {
   "codemirror_mode": {
    "name": "ipython",
    "version": 3
   },
   "file_extension": ".py",
   "mimetype": "text/x-python",
   "name": "python",
   "nbconvert_exporter": "python",
   "pygments_lexer": "ipython3",
   "version": "3.7.4"
  }
 },
 "nbformat": 4,
 "nbformat_minor": 4
}
