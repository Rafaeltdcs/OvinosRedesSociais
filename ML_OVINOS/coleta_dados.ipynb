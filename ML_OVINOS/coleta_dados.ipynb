{
 "cells": [
  {
   "cell_type": "markdown",
   "metadata": {},
   "source": [
    "## Captura das informações\n",
    "\n",
    "1. Coletar todos dos videos da query\n",
    "2. Coletar todas de cada video a description completa\n",
    "3. Montar um banco de dados com essas informações\n",
    "4. Coletar diáriamente a quantidade de views, likes e dislikes de cada video\n",
    "5. Montar uma série temporal com a informação acima\n",
    "6. Semanalmente pegar todos os videos novamente e incluir os novos\n",
    "\n",
    "## Output dos dados\n",
    "\n",
    "1. EAD: Quantidade de videos, qt de views, qt de produtores de videos\n",
    "2. Variação dos itens acima por dia, semana, mês\n",
    "3. ML: criar modelo para prever a quantidade de novos views\n",
    "4. NLP: descobrir cortes com mais videos\n",
    "5. NLP: descobrir novos \"canais\" na descrição\n",
    "6. Coletar tags para novas querys"
   ]
  },
  {
   "cell_type": "code",
   "execution_count": 2,
   "metadata": {},
   "outputs": [],
   "source": [
    "import youtube_dlc\n",
    "import pandas as pd\n",
    "import numpy as np\n",
    "import datetime\n",
    "import db"
   ]
  },
  {
   "cell_type": "code",
   "execution_count": 13,
   "metadata": {},
   "outputs": [],
   "source": [
    "class Coletor():\n",
    "\n",
    "    def __init__(self):\n",
    "        self.ydl = youtube_dlc.YoutubeDL({\"ignoreerrors\": True})\n",
    "    \n",
    "    def busca_query(self, query):\n",
    "        '''Passa lista com querys que devem ser procuradas'''\n",
    "        coletas = dict()\n",
    "        for q in query:\n",
    "            coletas[q] = self.ydl.extract_info(\"ytsearch:{}\".format(q), download=False) #mudar para searchall\n",
    "        return coletas\n",
    "    \n",
    "    def get_db_id(self):\n",
    "        '''Pega os ids no banco de dados e passa para o get_descricao'''\n",
    "        df = db.load_dimensao_youtube()\n",
    "        df = df[['id']]\n",
    "        return df\n",
    "    \n",
    "    def get_descricao(self, df):\n",
    "        '''Pegar a descrição do video'''\n",
    "        coletas = dict()\n",
    "        for i in df['id']:\n",
    "            info = self.ydl.extract_info('https://www.youtube.com/watch?v={}'.format(i), download=False)\n",
    "            coletas[i] = info['description']\n",
    "        coletas = pd.DataFrame.from_dict(coletas, orient='index')\n",
    "        coletas.reset_index(inplace=True)\n",
    "        coletas.columns = ['id','description']\n",
    "        return coletas\n",
    "    \n",
    "    def get_views(self, df):\n",
    "        '''Pegar a descrição do video'''\n",
    "        coletas = dict()\n",
    "        for i in df['id']:\n",
    "            info = self.ydl.extract_info('https://www.youtube.com/watch?v={}'.format(i), download=False)\n",
    "            coletas[i] = info['view_count'],info['like_count'],info['dislike_count'],info['average_rating']\n",
    "        coletas = pd.DataFrame.from_dict(coletas, orient='index')\n",
    "        coletas.reset_index(inplace=True)\n",
    "        coletas.columns = ['id','view_count','like_count','dislike_count','average_rating']\n",
    "        coletas['data'] = datetime.datetime.now()\n",
    "        return coletas\n",
    "    \n"
   ]
  },
  {
   "cell_type": "code",
   "execution_count": 14,
   "metadata": {},
   "outputs": [],
   "source": [
    "coletor = Coletor()"
   ]
  },
  {
   "cell_type": "code",
   "execution_count": 5,
   "metadata": {},
   "outputs": [],
   "source": [
    "df = coletor.get_db_id()"
   ]
  },
  {
   "cell_type": "code",
   "execution_count": 5,
   "metadata": {},
   "outputs": [
    {
     "data": {
      "text/plain": [
       "datetime.date(2021, 4, 7)"
      ]
     },
     "execution_count": 5,
     "metadata": {},
     "output_type": "execute_result"
    }
   ],
   "source": [
    "datetime.datetime.now().date()"
   ]
  },
  {
   "cell_type": "code",
   "execution_count": 8,
   "metadata": {},
   "outputs": [
    {
     "name": "stdout",
     "output_type": "stream",
     "text": [
      "[youtube] c55zIpV_BlU: Downloading webpage\n"
     ]
    }
   ],
   "source": [
    "ydl = youtube_dlc.YoutubeDL({\"ignoreerrors\": True})\n",
    "info = ydl.extract_info('https://www.youtube.com/watch?v=c55zIpV_BlU', download=False)"
   ]
  },
  {
   "cell_type": "code",
   "execution_count": 49,
   "metadata": {},
   "outputs": [
    {
     "data": {
      "text/plain": [
       "dict_keys(['id', 'uploader', 'uploader_id', 'uploader_url', 'channel_id', 'channel_url', 'upload_date', 'license', 'creator', 'title', 'alt_title', 'thumbnails', 'description', 'categories', 'tags', 'subtitles', 'automatic_captions', 'duration', 'age_limit', 'annotations', 'chapters', 'webpage_url', 'view_count', 'like_count', 'dislike_count', 'average_rating', 'formats', 'is_live', 'start_time', 'end_time', 'series', 'season_number', 'episode_number', 'track', 'artist', 'album', 'release_date', 'release_year', 'subscriber_count', 'extractor', 'webpage_url_basename', 'extractor_key', 'playlist', 'playlist_index', 'thumbnail', 'display_id', 'requested_subtitles', 'requested_formats', 'format', 'format_id', 'ext', 'width', 'height', 'resolution', 'fps', 'vcodec', 'vbr', 'stretched_ratio', 'acodec', 'abr'])"
      ]
     },
     "execution_count": 49,
     "metadata": {},
     "output_type": "execute_result"
    }
   ],
   "source": [
    "info.keys()\n",
    "#info['view_count']"
   ]
  },
  {
   "cell_type": "code",
   "execution_count": 55,
   "metadata": {},
   "outputs": [],
   "source": [
    "teste = info['view_count'],info['like_count'],info['dislike_count'],info['average_rating']"
   ]
  },
  {
   "cell_type": "code",
   "execution_count": 56,
   "metadata": {},
   "outputs": [],
   "source": [
    "t = dict()\n",
    "t['a'] = teste"
   ]
  },
  {
   "cell_type": "code",
   "execution_count": 57,
   "metadata": {},
   "outputs": [
    {
     "data": {
      "text/plain": [
       "{'a': (26592, 2176, 20, 4.9635701)}"
      ]
     },
     "execution_count": 57,
     "metadata": {},
     "output_type": "execute_result"
    }
   ],
   "source": [
    "t"
   ]
  },
  {
   "cell_type": "code",
   "execution_count": 40,
   "metadata": {},
   "outputs": [],
   "source": [
    "d=pd.DataFrame.from_dict(df1, orient='index')"
   ]
  },
  {
   "cell_type": "code",
   "execution_count": 41,
   "metadata": {},
   "outputs": [],
   "source": [
    "d.reset_index(inplace=True)"
   ]
  },
  {
   "cell_type": "code",
   "execution_count": 43,
   "metadata": {},
   "outputs": [],
   "source": [
    "d.columns = ['id','description']"
   ]
  },
  {
   "cell_type": "code",
   "execution_count": 46,
   "metadata": {},
   "outputs": [
    {
     "name": "stderr",
     "output_type": "stream",
     "text": [
      "C:\\Users\\rafael.camargos\\AppData\\Local\\Continuum\\anaconda3\\lib\\site-packages\\xlsxwriter\\worksheet.py:931: UserWarning: Ignoring URL 'http://goo.gl/oq2wFz%20-%20Receita%20Ana%20maria%20braga%20inspira%20muita%20gente%20na%20cozinha,%20e%20esse%20livro%20digital%20ensina%20muitas%20receitas%20pra%20quem%20quer%20aprender%20variedades%20de%20receitas.\n",
      "\n",
      "Kit%20com%20mais%20de%201000%20receitas%20diferentes,%20de%20várias%20regiões%20assim%20como%20a%20receita%20ana%20maria%20braga%20ensina%20muita%20coisa%20esse%20livro%20é%20um%20grande%20aliado%20na%20cozinha.\n",
      "\n",
      "Livro%20%20digital%20produzido%20para%20levar%20novidades%20pra%20sua%20mesa,%20assim%20com%20receita%20ana%20maria%20braga\n",
      "\n",
      "http://youtu.be/D0ZkcOAZArM' with link or location/anchor > 255 characters since it exceeds Excel's limit for URLS\n",
      "  force_unicode(url))\n"
     ]
    }
   ],
   "source": [
    "d.to_excel('descricao.xlsx')"
   ]
  },
  {
   "cell_type": "code",
   "execution_count": 3,
   "metadata": {},
   "outputs": [
    {
     "name": "stdout",
     "output_type": "stream",
     "text": [
      "[download] Downloading playlist: carne de cordeiro\n",
      "[youtube:search] query \"carne de cordeiro\": Downloading page 1\n",
      "[youtube:search] playlist carne de cordeiro: Downloading 1 videos\n",
      "[download] Downloading video 1 of 1\n",
      "[youtube] c55zIpV_BlU: Downloading webpage\n",
      "[download] Finished downloading playlist: carne de cordeiro\n",
      "[download] Downloading playlist: receita de cordeiro\n",
      "[youtube:search] query \"receita de cordeiro\": Downloading page 1\n",
      "[youtube:search] playlist receita de cordeiro: Downloading 1 videos\n",
      "[download] Downloading video 1 of 1\n",
      "[youtube] zY7hdFQHxV4: Downloading webpage\n",
      "[download] Finished downloading playlist: receita de cordeiro\n"
     ]
    }
   ],
   "source": [
    "query=['carne de cordeiro', 'receita de cordeiro']\n",
    "busca = Coletor()\n",
    "dados = busca.busca_query(query)"
   ]
  },
  {
   "cell_type": "code",
   "execution_count": 4,
   "metadata": {},
   "outputs": [
    {
     "data": {
      "text/plain": [
       "dict_keys(['carne de cordeiro', 'receita de cordeiro'])"
      ]
     },
     "execution_count": 4,
     "metadata": {},
     "output_type": "execute_result"
    }
   ],
   "source": [
    "dados.keys()"
   ]
  },
  {
   "cell_type": "code",
   "execution_count": 53,
   "metadata": {},
   "outputs": [
    {
     "data": {
      "text/plain": [
       "'https://www.youtube.com/watch?v='"
      ]
     },
     "execution_count": 53,
     "metadata": {},
     "output_type": "execute_result"
    }
   ],
   "source": []
  },
  {
   "cell_type": "code",
   "execution_count": 1,
   "metadata": {},
   "outputs": [],
   "source": [
    "#dados['receita de cordeiro']['entries'][0]#['id']"
   ]
  }
 ],
 "metadata": {
  "kernelspec": {
   "display_name": "Python 3",
   "language": "python",
   "name": "python3"
  },
  "language_info": {
   "codemirror_mode": {
    "name": "ipython",
    "version": 3
   },
   "file_extension": ".py",
   "mimetype": "text/x-python",
   "name": "python",
   "nbconvert_exporter": "python",
   "pygments_lexer": "ipython3",
   "version": "3.7.4"
  }
 },
 "nbformat": 4,
 "nbformat_minor": 4
}
